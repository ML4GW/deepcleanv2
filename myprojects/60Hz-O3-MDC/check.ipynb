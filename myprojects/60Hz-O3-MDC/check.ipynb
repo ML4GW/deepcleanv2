{
 "cells": [
  {
   "cell_type": "code",
   "execution_count": 2,
   "metadata": {},
   "outputs": [],
   "source": [
    "import glob\n",
    "from gwpy.timeseries import TimeSeries\n",
    "from lalframe.utils import frtools"
   ]
  },
  {
   "cell_type": "code",
   "execution_count": 6,
   "metadata": {},
   "outputs": [
    {
     "data": {
      "text/plain": [
       "['H1:GDS-CALIB_STRAIN_DC']"
      ]
     },
     "execution_count": 6,
     "metadata": {},
     "output_type": "execute_result"
    }
   ],
   "source": [
    "cleaned_frames = glob.glob(\"/home/chiajui.chou/deepcleanv2/myprojects/60Hz-O3-MDC/outdir/cleaned_frames/*.gwf\")\n",
    "cleaned_frames = sorted(cleaned_frames)\n",
    "# print(cleaned_frames)\n",
    "dc_channel = frtools.get_channels(cleaned_frames[0])[0]\n",
    "\n",
    "from gwf in cleaned_frames:"
   ]
  }
 ],
 "metadata": {
  "kernelspec": {
   "display_name": "igwn-py310",
   "language": "python",
   "name": "python3"
  },
  "language_info": {
   "codemirror_mode": {
    "name": "ipython",
    "version": 3
   },
   "file_extension": ".py",
   "mimetype": "text/x-python",
   "name": "python",
   "nbconvert_exporter": "python",
   "pygments_lexer": "ipython3",
   "version": "3.10.14"
  }
 },
 "nbformat": 4,
 "nbformat_minor": 2
}
