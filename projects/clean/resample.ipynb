{
 "cells": [
  {
   "cell_type": "code",
   "execution_count": 1,
   "metadata": {},
   "outputs": [
    {
     "name": "stderr",
     "output_type": "stream",
     "text": [
      "/home/chiajui.chou/.cache/pypoetry/virtualenvs/clean-IeYuvgpU-py3.10/lib/python3.10/site-packages/gwpy/time/__init__.py:36: UserWarning: Wswiglal-redir-stdio:\n",
      "\n",
      "SWIGLAL standard output/error redirection is enabled in IPython.\n",
      "This may lead to performance penalties. To disable locally, use:\n",
      "\n",
      "with lal.no_swig_redirect_standard_output_error():\n",
      "    ...\n",
      "\n",
      "To disable globally, use:\n",
      "\n",
      "lal.swig_redirect_standard_output_error(False)\n",
      "\n",
      "Note however that this will likely lead to error messages from\n",
      "LAL functions being either misdirected or lost when called from\n",
      "Jupyter notebooks.\n",
      "\n",
      "To suppress this warning, use:\n",
      "\n",
      "import warnings\n",
      "warnings.filterwarnings(\"ignore\", \"Wswiglal-redir-stdio\")\n",
      "import lal\n",
      "\n",
      "  from lal import LIGOTimeGPS\n"
     ]
    }
   ],
   "source": [
    "import os\n",
    "from pathlib import Path\n",
    "import glob\n",
    "import yaml\n",
    "import h5py\n",
    "import numpy as np\n",
    "import scipy.signal as signal\n",
    "from scipy.signal import resample\n",
    "import matplotlib.pyplot as plt\n",
    "import torch\n",
    "from gwpy.timeseries import TimeSeries\n",
    "from gwpy.timeseries import TimeSeriesDict\n",
    "\n",
    "from ml4gw.transforms import ChannelWiseScaler\n",
    "from utils.filt import BandpassFilter\n",
    "\n",
    "from train.data import DeepCleanDataset\n",
    "from train.model import DeepClean\n",
    "from train.architectures import Autoencoder\n",
    "from train.metrics import PsdRatio\n",
    "from train.metrics import OnlinePsdRatio\n",
    "\n",
    "from clean.frames import FrameCrawler, frame_it, parse_frame_name\n",
    "from clean.data import DeepCleanInferenceDataset\n",
    "from clean.model import InferenceModel\n",
    "from clean.infer import OnlineInference\n",
    "\n",
    "%matplotlib inline"
   ]
  },
  {
   "cell_type": "code",
   "execution_count": 30,
   "metadata": {},
   "outputs": [],
   "source": [
    "data_prefix = f\"/home/chiajui.chou/ll_data_O4_review\"\n",
    "data_dir = f\"{data_prefix}/unresampled_data/H1\"\n",
    "hofts = glob.glob(f\"{data_dir}/*llhoft*.gwf\")\n",
    "hofts = sorted(hofts)\n",
    "wits = glob.glob(f\"{data_dir}/*lldetchar*.gwf\")\n",
    "wits = sorted(wits)\n",
    "\n",
    "clean_config_file = \"/home/chiajui.chou/deepcleanv2/myprojects/60Hz-O3-MDC/config_clean.yaml\"\n",
    "with open(clean_config_file, 'r') as file:\n",
    "    clean_config = yaml.safe_load(file)\n",
    "\n",
    "train_dir = \"/home/chiajui.chou/deepclean/results/train-O3-H1-kernel_1_1_st_0p5_epad_0p2_fpad_0p8_lr_0p2_oclr/lightning_logs/version_0\"\n",
    "train_config_file = f\"{train_dir}/config.yaml\"\n",
    "with open(train_config_file, 'r') as file:\n",
    "    train_config = yaml.safe_load(file)\n",
    "train_hparams_file = f\"{train_dir}/hparams.yaml\"\n",
    "with open(train_hparams_file, 'r') as file:\n",
    "    train_hparams = yaml.safe_load(file)"
   ]
  },
  {
   "cell_type": "code",
   "execution_count": 8,
   "metadata": {},
   "outputs": [
    {
     "data": {
      "text/plain": [
       "[]"
      ]
     },
     "execution_count": 8,
     "metadata": {},
     "output_type": "execute_result"
    }
   ],
   "source": [
    "hofts"
   ]
  },
  {
   "cell_type": "code",
   "execution_count": 7,
   "metadata": {},
   "outputs": [
    {
     "ename": "IndexError",
     "evalue": "list index out of range",
     "output_type": "error",
     "traceback": [
      "\u001b[0;31m---------------------------------------------------------------------------\u001b[0m",
      "\u001b[0;31mIndexError\u001b[0m                                Traceback (most recent call last)",
      "Cell \u001b[0;32mIn[7], line 1\u001b[0m\n\u001b[0;32m----> 1\u001b[0m strain_source \u001b[38;5;241m=\u001b[39m \u001b[43mhofts\u001b[49m\u001b[43m[\u001b[49m\u001b[38;5;241;43m0\u001b[39;49m\u001b[43m]\u001b[49m\n\u001b[1;32m      2\u001b[0m strain_channel \u001b[38;5;241m=\u001b[39m train_config[\u001b[38;5;124m'\u001b[39m\u001b[38;5;124mdata\u001b[39m\u001b[38;5;124m'\u001b[39m][\u001b[38;5;124m'\u001b[39m\u001b[38;5;124mchannels\u001b[39m\u001b[38;5;124m'\u001b[39m][\u001b[38;5;241m0\u001b[39m]\n\u001b[1;32m      3\u001b[0m witness_channels \u001b[38;5;241m=\u001b[39m train_config[\u001b[38;5;124m'\u001b[39m\u001b[38;5;124mdata\u001b[39m\u001b[38;5;124m'\u001b[39m][\u001b[38;5;124m'\u001b[39m\u001b[38;5;124mchannels\u001b[39m\u001b[38;5;124m'\u001b[39m][\u001b[38;5;241m1\u001b[39m:]\n",
      "\u001b[0;31mIndexError\u001b[0m: list index out of range"
     ]
    }
   ],
   "source": [
    "strain_source = hofts[0]\n",
    "strain_channel = train_config['data']['channels'][0]\n",
    "witness_channels = train_config['data']['channels'][1:]\n",
    "witness_channels = sorted(witness_channels)\n",
    "start, duration = 1250916844, 16\n",
    "end = start + duration\n",
    "\n",
    "strain = TimeSeries.read(\n",
    "    source=strain_source,\n",
    "    channel=strain_channel,\n",
    "    start=start,\n",
    "    end=end,\n",
    ")\n",
    "witness_source = wits[0]\n",
    "witnesses = TimeSeriesDict.read(\n",
    "    source=witness_source,\n",
    "    channels=witness_channels,\n",
    "    start=start,\n",
    "    end=end,\n",
    ")"
   ]
  },
  {
   "cell_type": "code",
   "execution_count": 50,
   "metadata": {},
   "outputs": [],
   "source": [
    "def gwpy_process(\n",
    "        ts,\n",
    "        start:float,\n",
    "        end:float,\n",
    "        resample_rate:float,\n",
    "):\n",
    "    copy = ts.copy()\n",
    "    crop = copy.crop(start, end)\n",
    "    output = crop.resample(resample_rate)\n",
    "    return output\n",
    "\n",
    "def scipy_process(\n",
    "        ts,\n",
    "        start:float,\n",
    "        end:float,\n",
    "        resample_rate:float,\n",
    "        window:str,\n",
    "):\n",
    "    n = 60\n",
    "    copy = ts.copy()\n",
    "    crop = copy.crop(start, end)\n",
    "    factor = (crop.sample_rate.value / resample_rate)\n",
    "    # if factor.is_integer():\n",
    "        # filt = signal.firwin(n+1, 1./factor, window=window)\n",
    "        # out = signal.filtfilt(filt, [1.], crop.value)\n",
    "        # return out[::int(factor)]\n",
    "    if True:\n",
    "        num = int(crop.duration.value * resample_rate)\n",
    "        output = resample(\n",
    "            x=crop.value,\n",
    "            num=num,\n",
    "            window=window,\n",
    "        )\n",
    "        return output"
   ]
  },
  {
   "cell_type": "code",
   "execution_count": 53,
   "metadata": {},
   "outputs": [
    {
     "ename": "NameError",
     "evalue": "name 'strain' is not defined",
     "output_type": "error",
     "traceback": [
      "\u001b[0;31m---------------------------------------------------------------------------\u001b[0m",
      "\u001b[0;31mNameError\u001b[0m                                 Traceback (most recent call last)",
      "Cell \u001b[0;32mIn[6], line 3\u001b[0m\n\u001b[1;32m      1\u001b[0m \u001b[38;5;66;03m# print(f\"original sample_rate: {strain.sample_rate}.\")\u001b[39;00m\n\u001b[1;32m      2\u001b[0m resample_rate \u001b[38;5;241m=\u001b[39m \u001b[38;5;241m4096\u001b[39m\n\u001b[0;32m----> 3\u001b[0m start \u001b[38;5;241m=\u001b[39m \u001b[43mstrain\u001b[49m\u001b[38;5;241m.\u001b[39mt0\u001b[38;5;241m.\u001b[39mvalue\n\u001b[1;32m      4\u001b[0m \u001b[38;5;66;03m# duration = strain.duration.value\u001b[39;00m\n\u001b[1;32m      5\u001b[0m duration \u001b[38;5;241m=\u001b[39m \u001b[38;5;241m3\u001b[39m\n",
      "\u001b[0;31mNameError\u001b[0m: name 'strain' is not defined"
     ]
    }
   ],
   "source": [
    "# print(f\"original sample_rate: {strain.sample_rate}.\")\n",
    "resample_rate = 4096\n",
    "start = strain.t0.value\n",
    "# duration = strain.duration.value\n",
    "duration = 3\n",
    "end = start + duration\n",
    "times = np.arange(start, end, 1/resample_rate)\n",
    "window = 'boxcar'\n",
    "\n",
    "ref_strain = gwpy_process(\n",
    "    ts=strain,\n",
    "    start=start,\n",
    "    end=end,\n",
    "    resample_rate=resample_rate,\n",
    ")\n",
    "print(f\"sample_rate after resampled by gwpy: {ref_strain.sample_rate}.\")\n",
    "plt.figure(figsize=[10,3])\n",
    "plt.plot(ref_strain.times, ref_strain)\n",
    "plt.xlabel(\"Time [s]\")\n",
    "plt.ylabel(\"Strain\")\n",
    "plt.show()\n",
    "\n",
    "sci_strain = scipy_process(\n",
    "    ts=strain,\n",
    "    start=start,\n",
    "    end=end,\n",
    "    resample_rate=resample_rate,\n",
    "    window=window,\n",
    ")\n",
    "plt.figure(figsize=[10,3])\n",
    "plt.plot(times, sci_strain)\n",
    "plt.xlabel(\"Time [s]\")\n",
    "plt.ylabel(\"Strain\")\n",
    "plt.show()"
   ]
  },
  {
   "cell_type": "code",
   "execution_count": 54,
   "metadata": {},
   "outputs": [
    {
     "data": {
      "image/png": "[encoded data removed]",
      "text/plain": [
       "<Figure size 1000x300 with 1 Axes>"
      ]
     },
     "metadata": {},
     "output_type": "display_data"
    }
   ],
   "source": [
    "diff = ref_strain.value - sci_strain\n",
    "plt.figure(figsize=[10,3])\n",
    "plt.plot(times, diff)\n",
    "plt.xlabel(\"Time [s]\")\n",
    "plt.ylabel(\"Strain\")\n",
    "plt.show()"
   ]
  },
  {
   "cell_type": "code",
   "execution_count": null,
   "metadata": {},
   "outputs": [],
   "source": []
  }
 ],
 "metadata": {
  "kernelspec": {
   "display_name": "clean-IeYuvgpU-py3.10",
   "language": "python",
   "name": "python3"
  },
  "language_info": {
   "codemirror_mode": {
    "name": "ipython",
    "version": 3
   },
   "file_extension": ".py",
   "mimetype": "text/x-python",
   "name": "python",
   "nbconvert_exporter": "python",
   "pygments_lexer": "ipython3",
   "version": "3.10.14"
  }
 },
 "nbformat": 4,
 "nbformat_minor": 2
}
