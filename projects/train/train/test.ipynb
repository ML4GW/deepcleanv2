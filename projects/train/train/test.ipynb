{
 "cells": [
  {
   "cell_type": "code",
   "execution_count": 1,
   "id": "7382f0af",
   "metadata": {},
   "outputs": [],
   "source": [
    "from ml4gw.transforms import ChannelWiseScaler\n",
    "from utils.filt import BandpassFilter\n",
    "from train.data import DeepCleanDataset\n",
    "\n",
    "from train.architectures import Autoencoder\n",
    "from train.metrics import PsdRatio, OfflinePsdRatio\n",
    "from train.model import DeepClean"
   ]
  },
  {
   "cell_type": "markdown",
   "id": "a8372bca",
   "metadata": {},
   "source": [
    "### DeepCleanDataset"
   ]
  },
  {
   "cell_type": "code",
   "execution_count": 2,
   "id": "8f7399dc",
   "metadata": {},
   "outputs": [],
   "source": [
    "# data args\n",
    "fname = \"/home/chiajui.chou/deepclean/data/CDC_test-120Hz/deepclean-1378402219-3072.hdf5\"\n",
    "channels = [\n",
    "    \"H1:PEM-CS_ACC_PSL_TABLE1_Z_DQ\",\n",
    "    \"H1:HPI-HAM4_BLND_L4C_Y_IN1_DQ\",\n",
    "    \"H1:IMC-WFS_A_Q_PIT_OUT_DQ\",\n",
    "    \"H1:IMC-WFS_B_Q_PIT_OUT_DQ\",\n",
    "    \"H1:IMC-DOF_1_Y_IN1_DQ\",\n",
    "    \"H1:PEM-CS_ACC_PSL_PERISCOPE_X_DQ\",\n",
    "    \"H1:IMC-DOF_4_Y_IN1_DQ\",\n",
    "    \"H1:HPI-HAM6_BLND_L4C_RX_IN1_DQ\",\n",
    "    \"H1:IMC-WFS_A_DC_YAW_OUT_DQ\",\n",
    "    \"H1:IMC-WFS_B_I_PIT_OUT_DQ\",\n",
    "    \"H1:IMC-WFS_B_Q_YAW_OUT_DQ\",\n",
    "    \"H1:IMC-WFS_A_Q_YAW_OUT_DQ\",\n",
    "    \"H1:PSL-PMC_HV_MON_OUT_DQ\",\n",
    "    \"H1:LSC-REFL_SERVO_ERR_OUT_DQ\",\n",
    "    \"H1:IMC-WFS_B_I_YAW_OUT_DQ\",\n",
    "    \"H1:PEM-CS_ACC_HAM2_PRM_Z_DQ\",\n",
    "    \"H1:PEM-CS_ACC_PSL_TABLE1_X_DQ\",\n",
    "    \"H1:LSC-MCL_IN1_DQ\",\n",
    "    \"H1:IMC-WFS_A_DC_PIT_OUT_DQ\",\n",
    "    \"H1:IMC-F_OUT_DQ\",\n",
    "    \"H1:LSC-REFL_SERVO_CTRL_OUT_DQ\",\n",
    "    \"H1:PSL-PMC_MIXER_OUT_DQ\",\n",
    "    \"H1:IMC-WFS_B_DC_YAW_OUT_DQ\",\n",
    "    \"H1:PEM-CS_ACC_PSL_PERISCOPE_Y_DQ\",\n",
    "    \"H1:IMC-DOF_2_Y_IN1_DQ\",\n",
    "    \"H1:LSC-MCL_OUT_DQ\",\n",
    "    \"H1:HPI-HAM1_BLND_L4C_RX_IN1_DQ\",\n",
    "    \"H1:HPI-HAM6_BLND_L4C_VP_IN1_DQ\",\n",
    "    \"H1:IMC-DOF_2_P_IN1_DQ\",\n",
    "    \"H1:IMC-L_OUT_DQ\",\n",
    "    \"H1:PEM-CS_ACC_LVEAFLOOR_BS_Z_DQ\",\n",
    "    \"H1:PEM-CS_ACC_HAM2_PRM_Y_DQ\",\n",
    "    \"H1:PEM-CS_ACC_LVEAFLOOR_HAM1_X_DQ\",\n",
    "    \"H1:HPI-HAM2_BLND_L4C_RY_IN1_DQ\",\n",
    "    \"H1:HPI-HAM1_BLND_L4C_VP_IN1_DQ\",\n",
    "]\n",
    "freq_low = [110]\n",
    "freq_high = [130]\n",
    "train_duration = 1024\n",
    "test_duration = 2048\n",
    "valid_frac = 0.1\n",
    "train_stride = 0.25\n",
    "inference_sampling_rate = 2\n",
    "start_offset = 0\n",
    "clean_kernel_length = 8\n",
    "clean_stride = 4\n",
    "batch_size = 32\n",
    "kernel_length = 8\n",
    "filt_order = 8\n",
    "\n",
    "dc_dataset = DeepCleanDataset(\n",
    "    fname=fname,\n",
    "    channels=channels,\n",
    "    kernel_length=kernel_length,\n",
    "    freq_low=freq_low,\n",
    "    freq_high=freq_high,\n",
    "    batch_size=batch_size,\n",
    "    train_duration=train_duration,\n",
    "    test_duration=test_duration,\n",
    "    valid_frac=valid_frac,\n",
    "    train_stride=train_stride,\n",
    "    inference_sampling_rate=inference_sampling_rate,\n",
    "    clean_kernel_length=clean_kernel_length,\n",
    "    clean_stride=clean_stride,\n",
    "    start_offset=start_offset,\n",
    "    filt_order=filt_order,\n",
    ")"
   ]
  },
  {
   "cell_type": "code",
   "execution_count": 3,
   "id": "9aed949f",
   "metadata": {},
   "outputs": [
    {
     "data": {
      "text/plain": [
       "\"batch_size\":              32\n",
       "\"channels\":                ['H1:PEM-CS_ACC_PSL_TABLE1_Z_DQ', 'H1:HPI-HAM4_BLND_L4C_Y_IN1_DQ', 'H1:IMC-WFS_A_Q_PIT_OUT_DQ', 'H1:IMC-WFS_B_Q_PIT_OUT_DQ', 'H1:IMC-DOF_1_Y_IN1_DQ', 'H1:PEM-CS_ACC_PSL_PERISCOPE_X_DQ', 'H1:IMC-DOF_4_Y_IN1_DQ', 'H1:HPI-HAM6_BLND_L4C_RX_IN1_DQ', 'H1:IMC-WFS_A_DC_YAW_OUT_DQ', 'H1:IMC-WFS_B_I_PIT_OUT_DQ', 'H1:IMC-WFS_B_Q_YAW_OUT_DQ', 'H1:IMC-WFS_A_Q_YAW_OUT_DQ', 'H1:PSL-PMC_HV_MON_OUT_DQ', 'H1:LSC-REFL_SERVO_ERR_OUT_DQ', 'H1:IMC-WFS_B_I_YAW_OUT_DQ', 'H1:PEM-CS_ACC_HAM2_PRM_Z_DQ', 'H1:PEM-CS_ACC_PSL_TABLE1_X_DQ', 'H1:LSC-MCL_IN1_DQ', 'H1:IMC-WFS_A_DC_PIT_OUT_DQ', 'H1:IMC-F_OUT_DQ', 'H1:LSC-REFL_SERVO_CTRL_OUT_DQ', 'H1:PSL-PMC_MIXER_OUT_DQ', 'H1:IMC-WFS_B_DC_YAW_OUT_DQ', 'H1:PEM-CS_ACC_PSL_PERISCOPE_Y_DQ', 'H1:IMC-DOF_2_Y_IN1_DQ', 'H1:LSC-MCL_OUT_DQ', 'H1:HPI-HAM1_BLND_L4C_RX_IN1_DQ', 'H1:HPI-HAM6_BLND_L4C_VP_IN1_DQ', 'H1:IMC-DOF_2_P_IN1_DQ', 'H1:IMC-L_OUT_DQ', 'H1:PEM-CS_ACC_LVEAFLOOR_BS_Z_DQ', 'H1:PEM-CS_ACC_HAM2_PRM_Y_DQ', 'H1:PEM-CS_ACC_LVEAFLOOR_HAM1_X_DQ', 'H1:HPI-HAM2_BLND_L4C_RY_IN1_DQ', 'H1:HPI-HAM1_BLND_L4C_VP_IN1_DQ']\n",
       "\"clean_kernel_length\":     8\n",
       "\"clean_stride\":            4\n",
       "\"filt_order\":              8\n",
       "\"fname\":                   /home/chiajui.chou/deepclean/data/CDC_test-120Hz/deepclean-1378402219-3072.hdf5\n",
       "\"freq_high\":               [130]\n",
       "\"freq_low\":                [110]\n",
       "\"inference_sampling_rate\": 2\n",
       "\"kernel_length\":           8\n",
       "\"start_offset\":            0\n",
       "\"test_duration\":           2048\n",
       "\"train_duration\":          1024\n",
       "\"train_stride\":            0.25\n",
       "\"valid_frac\":              0.1"
      ]
     },
     "execution_count": 3,
     "metadata": {},
     "output_type": "execute_result"
    }
   ],
   "source": [
    "dc_dataset.hparams"
   ]
  },
  {
   "cell_type": "code",
   "execution_count": null,
   "id": "bdebec84",
   "metadata": {},
   "outputs": [
    {
     "name": "stdout",
     "output_type": "stream",
     "text": [
      "ChannelWiseScaler()\n",
      "ChannelWiseScaler()\n"
     ]
    }
   ],
   "source": [
    "print(getattr(dc_dataset, 'X_scaler'))\n",
    "print(getattr(dc_dataset, 'y_scaler'))"
   ]
  },
  {
   "cell_type": "code",
   "execution_count": null,
   "id": "7afea02b",
   "metadata": {},
   "outputs": [
    {
     "name": "stdout",
     "output_type": "stream",
     "text": [
      "ChannelWiseScaler()\n",
      "ChannelWiseScaler()\n"
     ]
    }
   ],
   "source": [
    "dc_dataset.setup()"
   ]
  },
  {
   "cell_type": "code",
   "execution_count": 17,
   "id": "80f1ed75",
   "metadata": {},
   "outputs": [
    {
     "name": "stdout",
     "output_type": "stream",
     "text": [
      "odict_keys(['mean', 'std'])\n",
      "tensor([-4.1139e-05])\n",
      "tensor([30.9883])\n",
      "torch.Size([34, 1])\n",
      "torch.Size([34, 1])\n"
     ]
    }
   ],
   "source": [
    "# print(getattr(dc_dataset, 'X_scaler'))\n",
    "y_scaler = getattr(dc_dataset, 'y_scaler')\n",
    "print(y_scaler.state_dict().keys())\n",
    "print(y_scaler.state_dict()['mean'])\n",
    "print(y_scaler.state_dict()['std'])\n",
    "X_scaler = getattr(dc_dataset, 'X_scaler')\n",
    "print(X_scaler.state_dict()['mean'].shape)\n",
    "print(X_scaler.state_dict()['std'].shape)"
   ]
  },
  {
   "cell_type": "markdown",
   "id": "40b47714",
   "metadata": {},
   "source": [
    "### DeepClean Model"
   ]
  },
  {
   "cell_type": "code",
   "execution_count": 4,
   "id": "62b57bb4",
   "metadata": {},
   "outputs": [],
   "source": [
    "# arch\n",
    "num_witnesses = dc_dataset.num_witnesses\n",
    "hidden_channels = [8, 16, 32, 64]\n",
    "arch = Autoencoder(\n",
    "    num_witnesses=num_witnesses,\n",
    "    hidden_channels=hidden_channels,\n",
    ")\n",
    "\n",
    "# loss\n",
    "sample_rate = dc_dataset.sample_rate\n",
    "fftlength = 2\n",
    "freq_low = freq_low\n",
    "freq_high = freq_high\n",
    "asd = False\n",
    "loss = PsdRatio(\n",
    "    sample_rate=sample_rate,\n",
    "    fftlength=fftlength,\n",
    "    freq_low=freq_low,\n",
    "    freq_high=freq_high,\n",
    "    asd=asd,\n",
    ")\n",
    "\n",
    "# metric\n",
    "sample_rate = dc_dataset.sample_rate\n",
    "clean_kernel_length = dc_dataset.hparams.clean_kernel_length\n",
    "clean_stride = dc_dataset.hparams.clean_stride\n",
    "window = \"hann\"\n",
    "bandpass = dc_dataset.bandpass\n",
    "y_scaler = dc_dataset.y_scaler\n",
    "metric = OfflinePsdRatio(\n",
    "    sample_rate=sample_rate,\n",
    "    clean_kernel_length=clean_kernel_length,\n",
    "    clean_stride=clean_stride,\n",
    "    window=window,\n",
    "    bandpass=bandpass,\n",
    "    y_scaler=y_scaler,\n",
    ")\n",
    "\n",
    "# patience\n",
    "patience = 20\n",
    "\n",
    "# model\n",
    "dc_model = DeepClean(\n",
    "    arch=arch,\n",
    "    loss=loss,\n",
    "    metric=metric,\n",
    "    patience=patience,\n",
    "    save_top_k_models=10,\n",
    ")"
   ]
  },
  {
   "cell_type": "markdown",
   "id": "8b11bfad",
   "metadata": {},
   "source": [
    "### Validation loop"
   ]
  },
  {
   "cell_type": "code",
   "execution_count": 5,
   "id": "79ed2faa",
   "metadata": {},
   "outputs": [
    {
     "name": "stdout",
     "output_type": "stream",
     "text": [
      "torch.Size([24, 34, 32768])\n",
      "torch.Size([102, 1, 4096])\n"
     ]
    }
   ],
   "source": [
    "dc_dataset.setup(stage='fit')\n",
    "val_dataloader = dc_dataset.val_dataloader()\n",
    "for batch in iter(val_dataloader):\n",
    "    print(batch[0].shape)\n",
    "    print(batch[1].shape)"
   ]
  },
  {
   "cell_type": "code",
   "execution_count": 6,
   "id": "da63a3ad",
   "metadata": {},
   "outputs": [],
   "source": [
    "dc_model.metric.reset()\n",
    "for batch in iter(val_dataloader):\n",
    "    dc_model.validation_step(batch, None)"
   ]
  },
  {
   "cell_type": "code",
   "execution_count": 7,
   "id": "a85e603e",
   "metadata": {},
   "outputs": [],
   "source": [
    "predicted_noise, raw_strain = dc_model.metric.clean()"
   ]
  },
  {
   "cell_type": "code",
   "execution_count": 8,
   "id": "7248dd5d",
   "metadata": {},
   "outputs": [
    {
     "name": "stdout",
     "output_type": "stream",
     "text": [
      "torch.Size([1, 409600])\n",
      "torch.Size([1, 409600])\n"
     ]
    }
   ],
   "source": [
    "print(predicted_noise.shape)\n",
    "print(raw_strain.shape)"
   ]
  },
  {
   "cell_type": "markdown",
   "id": "199c7943",
   "metadata": {},
   "source": [
    "### Test loop"
   ]
  },
  {
   "cell_type": "code",
   "execution_count": 9,
   "id": "6af67ace",
   "metadata": {},
   "outputs": [
    {
     "name": "stdout",
     "output_type": "stream",
     "text": [
      "torch.Size([128, 34, 32768])\n",
      "torch.Size([128, 1, 4096])\n",
      "torch.Size([128, 34, 32768])\n",
      "torch.Size([128, 1, 4096])\n",
      "torch.Size([128, 34, 32768])\n",
      "torch.Size([128, 1, 4096])\n",
      "torch.Size([127, 34, 32768])\n",
      "torch.Size([128, 1, 4096])\n",
      "torch.Size([128, 1, 4096])\n",
      "torch.Size([128, 1, 4096])\n",
      "torch.Size([128, 1, 4096])\n",
      "torch.Size([128, 1, 4096])\n",
      "torch.Size([128, 1, 4096])\n",
      "torch.Size([128, 1, 4096])\n",
      "torch.Size([128, 1, 4096])\n",
      "torch.Size([128, 1, 4096])\n",
      "torch.Size([128, 1, 4096])\n",
      "torch.Size([128, 1, 4096])\n",
      "torch.Size([128, 1, 4096])\n",
      "torch.Size([128, 1, 4096])\n"
     ]
    }
   ],
   "source": [
    "dc_dataset.setup(stage='test')\n",
    "test_dataloader = dc_dataset.test_dataloader()\n",
    "for batch in iter(test_dataloader):\n",
    "    if batch[0] is not None:\n",
    "        print(batch[0].shape)\n",
    "    if batch[1] is not None:\n",
    "        print(batch[1].shape)\n",
    "    else:\n",
    "        print(\"None\")"
   ]
  },
  {
   "cell_type": "code",
   "execution_count": 10,
   "id": "0c5a10a5",
   "metadata": {},
   "outputs": [],
   "source": [
    "dc_model.metric.reset()\n",
    "for batch in iter(test_dataloader):\n",
    "    dc_model.test_step(batch, None)"
   ]
  },
  {
   "cell_type": "code",
   "execution_count": 11,
   "id": "9308d706",
   "metadata": {},
   "outputs": [],
   "source": [
    "predict, raw = dc_model.metric.clean()"
   ]
  },
  {
   "cell_type": "code",
   "execution_count": 12,
   "id": "6b29a052",
   "metadata": {},
   "outputs": [
    {
     "name": "stdout",
     "output_type": "stream",
     "text": [
      "torch.Size([1, 8388608])\n",
      "torch.Size([1, 8388608])\n"
     ]
    }
   ],
   "source": [
    "print(predict.shape)\n",
    "print(raw.shape)"
   ]
  }
 ],
 "metadata": {
  "kernelspec": {
   "display_name": "train-py3.10",
   "language": "python",
   "name": "python3"
  },
  "language_info": {
   "codemirror_mode": {
    "name": "ipython",
    "version": 3
   },
   "file_extension": ".py",
   "mimetype": "text/x-python",
   "name": "python",
   "nbconvert_exporter": "python",
   "pygments_lexer": "ipython3",
   "version": "3.10.14"
  }
 },
 "nbformat": 4,
 "nbformat_minor": 5
}
