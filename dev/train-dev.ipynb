{
 "cells": [
  {
   "cell_type": "markdown",
   "id": "10a6cc1f",
   "metadata": {},
   "source": [
    "### Environment variables"
   ]
  },
  {
   "cell_type": "code",
   "execution_count": 21,
   "id": "5dd6088b",
   "metadata": {},
   "outputs": [],
   "source": [
    "HOME = \"/home/chiajui.chou\"\n",
    "DEEPCLEAN_CONTAINER_ROOT = f\"{HOME}/images/deepclean\"\n",
    "DATA_DIR = f\"{HOME}/deepclean/data/CDC_test-180Hz\"\n",
    "RESULTS_DIR = f\"{HOME}/deepclean/results\"\n",
    "\n",
    "DEEPCLEAN_IFO = \"H1\"\n",
    "DEEPCLEAN_PROBLEM = \"180Hz\"\n",
    "GPU_INDEX = 0"
   ]
  },
  {
   "cell_type": "markdown",
   "id": "d07c6c89",
   "metadata": {},
   "source": [
    "### Input to deepclean.tasks.Train"
   ]
  },
  {
   "cell_type": "code",
   "execution_count": 32,
   "id": "458867fe",
   "metadata": {},
   "outputs": [],
   "source": [
    "# luigi.cfg\n",
    "cfg = dict.fromkeys(['deepclean', 'core'])\n",
    "for key in cfg:\n",
    "    cfg[key] = dict()\n",
    "\n",
    "cfg['deepclean']['ifo'] = DEEPCLEAN_IFO\n",
    "cfg['deepclean']['problem'] = DEEPCLEAN_PROBLEM\n",
    "cfg['deepclean']['strain_channel'] = \"GDS-CALIB_STRAIN\"\n",
    "cfg['core']['local_scheduler'] = True\n",
    "cfg['core']['module'] = \"deepclean\"\n",
    "\n",
    "# deepclean.config.deepclean\n",
    "ifo = cfg['deepclean']['ifo']\n",
    "problem = [cfg['deepclean']['problem']]\n",
    "strain_channel = cfg['deepclean']['strain_channel']\n",
    "container_root = DEEPCLEAN_CONTAINER_ROOT\n",
    "# subtraction problems\n",
    "from deepclean.couplings import subtraction_problems\n",
    "couplings = [subtraction_problems[i][ifo] for i in problem]\n",
    "witnesses = [j for i in couplings for j in i.channels]\n",
    "freq_low = [i.freq_low for i in couplings]\n",
    "freq_high = [i.freq_high for i in couplings]\n",
    "\n",
    "# train.sh\n",
    "image = \"train.sif\"\n",
    "gpus = GPU_INDEX\n",
    "data_fname = f\"{DATA_DIR}/deepclean-1378402219-3072.hdf5\"\n",
    "train_config = f\"{HOME}/deepcleanv2/projects/train/config.yaml\"\n",
    "output_dir = f\"{RESULTS_DIR}/O4-CDC_180Hz\"\n",
    "\n",
    "# Train task\n",
    "config = train_config\n",
    "fname = data_fname\n",
    "channels = [strain_channel] + witnesses\n",
    "freq_low = freq_low\n",
    "freq_high = freq_high"
   ]
  },
  {
   "cell_type": "code",
   "execution_count": 31,
   "id": "cbabb3bc",
   "metadata": {},
   "outputs": [
    {
     "name": "stdout",
     "output_type": "stream",
     "text": [
      "/home/chiajui.chou/deepcleanv2/projects/train/config.yaml\n",
      "/home/chiajui.chou/deepclean/data/CDC_test-180Hz/deepclean-1378402219-3072.hdf5\n",
      "['GDS-CALIB_STRAIN', 'H1:PEM-CS_MAG_LVEA_OUTPUTOPTICS_Z_DQ', 'H1:LSC-REFL_A_LF_OUT_DQ', 'H1:IMC-F_OUT_DQ', 'H1:IMC-WFS_B_Q_YAW_OUT_DQ', 'H1:IMC-WFS_A_Q_YAW_OUT_DQ', 'H1:PEM-EX_MAG_VEA_FLOOR_X_DQ', 'H1:PEM-CS_ACC_PSL_PERISCOPE_Y_DQ', 'H1:ISI-ITMY_ST2_BLND_RZ_GS13_CUR_IN1_DQ', 'H1:IMC-WFS_A_DC_YAW_OUT_DQ', 'H1:IMC-WFS_B_DC_YAW_OUT_DQ', 'H1:ISI-HAM6_BLND_GS13Z_IN1_DQ', 'H1:PEM-EY_VMON_ETMY_ESDPOWERMINUS18_DQ', 'H1:ISI-HAM2_BLND_GS13RZ_IN1_DQ', 'H1:IMC-L_OUT_DQ', 'H1:PEM-CS_ACC_PSL_PERISCOPE_X_DQ', 'H1:PEM-CS_MAG_EBAY_LSCRACK_Z_DQ', 'H1:IMC-DOF_4_Y_IN1_DQ', 'H1:IMC-WFS_B_I_YAW_OUT_DQ']\n",
      "[176]\n",
      "[184]\n"
     ]
    }
   ],
   "source": [
    "print(config)\n",
    "print(fname)\n",
    "print(channels)\n",
    "print(freq_low)\n",
    "print(freq_high)"
   ]
  },
  {
   "cell_type": "code",
   "execution_count": 33,
   "id": "bc6612e4",
   "metadata": {},
   "outputs": [
    {
     "name": "stdout",
     "output_type": "stream",
     "text": [
      "1024\n",
      "0.0625\n",
      "0.33\n",
      "2\n",
      "1\n",
      "1\n"
     ]
    }
   ],
   "source": [
    "# Check train_config\n",
    "import yaml\n",
    "with open(config, 'r') as file:\n",
    "    config = yaml.safe_load(file)\n",
    "\n",
    "print(config['data']['train_duration'])\n",
    "print(config['data']['train_stride'])\n",
    "print(config['data']['valid_frac'])\n",
    "print(config['data']['inference_sampling_rate'])\n",
    "print(config['data']['clean_kernel_length'])\n",
    "print(config['data']['clean_stride'])"
   ]
  },
  {
   "cell_type": "markdown",
   "id": "e6d9fcd9",
   "metadata": {},
   "source": [
    "### projects/train/cli.py"
   ]
  },
  {
   "cell_type": "code",
   "execution_count": 36,
   "id": "a4d6fd52",
   "metadata": {},
   "outputs": [],
   "source": [
    "import os\n",
    "import torch\n",
    "from lightning.pytorch.cli import LightningCLI\n",
    "\n",
    "from train.data import DeepCleanDataset\n",
    "from train.model import DeepClean\n",
    "from utils.logging import configure_logging"
   ]
  },
  {
   "cell_type": "markdown",
   "id": "bc0c996c",
   "metadata": {},
   "source": [
    "### Data Setup"
   ]
  },
  {
   "cell_type": "code",
   "execution_count": 24,
   "id": "d6a67364",
   "metadata": {},
   "outputs": [
    {
     "ename": "NameError",
     "evalue": "name 'kernel_length' is not defined",
     "output_type": "error",
     "traceback": [
      "\u001b[31m---------------------------------------------------------------------------\u001b[39m",
      "\u001b[31mNameError\u001b[39m                                 Traceback (most recent call last)",
      "\u001b[36mCell\u001b[39m\u001b[36m \u001b[39m\u001b[32mIn[24]\u001b[39m\u001b[32m, line 5\u001b[39m\n\u001b[32m      1\u001b[39m \u001b[38;5;28;01mfrom\u001b[39;00m\u001b[38;5;250m \u001b[39m\u001b[34;01mtrain\u001b[39;00m\u001b[34;01m.\u001b[39;00m\u001b[34;01mdata\u001b[39;00m\u001b[38;5;250m \u001b[39m\u001b[38;5;28;01mimport\u001b[39;00m DeepCleanDataset\n\u001b[32m      2\u001b[39m dc_dataset = DeepCleanDataset(\n\u001b[32m      3\u001b[39m     fanme=fname,\n\u001b[32m      4\u001b[39m     channels=channels,\n\u001b[32m----> \u001b[39m\u001b[32m5\u001b[39m     kernel_length=\u001b[43mkernel_length\u001b[49m,\n\u001b[32m      6\u001b[39m     freq_low=freq_low,\n\u001b[32m      7\u001b[39m     freq_high=freq_high,\n\u001b[32m      8\u001b[39m     batch_size=batch_size,\n\u001b[32m      9\u001b[39m     train_duration=train_duration,\n\u001b[32m     10\u001b[39m     test_duration=test_duration,\n\u001b[32m     11\u001b[39m     valid_frac=valid_frac,\n\u001b[32m     12\u001b[39m     inference_sampling_rate=inference_sampling_rate,\n\u001b[32m     13\u001b[39m     clean_kernel_length=clean_kernel_length,\n\u001b[32m     14\u001b[39m     clean_stride=clean_stride,\n\u001b[32m     15\u001b[39m     start_offset=start_offset,\n\u001b[32m     16\u001b[39m     filt_order=filt_order,\n\u001b[32m     17\u001b[39m )\n",
      "\u001b[31mNameError\u001b[39m: name 'kernel_length' is not defined"
     ]
    }
   ],
   "source": [
    "from train.data import DeepCleanDataset\n",
    "dc_dataset = DeepCleanDataset(\n",
    "    fanme=fname,\n",
    "    channels=channels,\n",
    "    kernel_length=kernel_length,\n",
    "    freq_low=freq_low,\n",
    "    freq_high=freq_high,\n",
    "    batch_size=batch_size,\n",
    "    train_duration=train_duration,\n",
    "    test_duration=test_duration,\n",
    "    valid_frac=valid_frac,\n",
    "    inference_sampling_rate=inference_sampling_rate,\n",
    "    clean_kernel_length=clean_kernel_length,\n",
    "    clean_stride=clean_stride,\n",
    "    start_offset=start_offset,\n",
    "    filt_order=filt_order,\n",
    ")"
   ]
  }
 ],
 "metadata": {
  "kernelspec": {
   "display_name": "train-Mjstll9c-py3.11",
   "language": "python",
   "name": "python3"
  },
  "language_info": {
   "codemirror_mode": {
    "name": "ipython",
    "version": 3
   },
   "file_extension": ".py",
   "mimetype": "text/x-python",
   "name": "python",
   "nbconvert_exporter": "python",
   "pygments_lexer": "ipython3",
   "version": "3.11.11"
  }
 },
 "nbformat": 4,
 "nbformat_minor": 5
}
